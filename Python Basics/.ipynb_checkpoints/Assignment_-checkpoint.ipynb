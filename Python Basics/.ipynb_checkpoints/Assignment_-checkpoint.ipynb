{
 "cells": [
  {
   "cell_type": "markdown",
   "id": "9a84f530",
   "metadata": {},
   "source": []
  },
  {
   "cell_type": "code",
   "execution_count": null,
   "id": "575b3f38",
   "metadata": {},
   "outputs": [],
   "source": [
    "#### Answer\n",
    "\n",
    "***"
   ]
  },
  {
   "cell_type": "markdown",
   "id": "9e000b7d",
   "metadata": {},
   "source": []
  },
  {
   "cell_type": "code",
   "execution_count": null,
   "id": "3b874779",
   "metadata": {},
   "outputs": [],
   "source": [
    "#### Answer\n",
    "\n",
    "***"
   ]
  },
  {
   "cell_type": "markdown",
   "id": "0d51605d",
   "metadata": {},
   "source": []
  },
  {
   "cell_type": "code",
   "execution_count": null,
   "id": "5b3c3095",
   "metadata": {},
   "outputs": [],
   "source": [
    "#### Answer\n",
    "\n",
    "***"
   ]
  },
  {
   "cell_type": "markdown",
   "id": "5f942622",
   "metadata": {},
   "source": []
  },
  {
   "cell_type": "code",
   "execution_count": null,
   "id": "550cc1e1",
   "metadata": {},
   "outputs": [],
   "source": [
    "#### Answer\n",
    "\n",
    "***"
   ]
  },
  {
   "cell_type": "markdown",
   "id": "183ea1d0",
   "metadata": {},
   "source": []
  },
  {
   "cell_type": "code",
   "execution_count": null,
   "id": "a52fd573",
   "metadata": {},
   "outputs": [],
   "source": [
    "#### Answer\n",
    "\n",
    "***"
   ]
  },
  {
   "cell_type": "markdown",
   "id": "4a80ad16",
   "metadata": {},
   "source": []
  },
  {
   "cell_type": "code",
   "execution_count": null,
   "id": "b188771a",
   "metadata": {},
   "outputs": [],
   "source": [
    "#### Answer\n",
    "\n",
    "***"
   ]
  },
  {
   "cell_type": "markdown",
   "id": "2492aab2",
   "metadata": {},
   "source": []
  },
  {
   "cell_type": "code",
   "execution_count": null,
   "id": "ccb225d1",
   "metadata": {},
   "outputs": [],
   "source": [
    "#### Answer\n",
    "\n",
    "***"
   ]
  },
  {
   "cell_type": "markdown",
   "id": "bbb082f1",
   "metadata": {},
   "source": []
  },
  {
   "cell_type": "code",
   "execution_count": null,
   "id": "b7bc9bda",
   "metadata": {},
   "outputs": [],
   "source": [
    "#### Answer\n",
    "\n",
    "***"
   ]
  },
  {
   "cell_type": "markdown",
   "id": "522baf0f",
   "metadata": {},
   "source": []
  },
  {
   "cell_type": "code",
   "execution_count": null,
   "id": "b3fafd0a",
   "metadata": {},
   "outputs": [],
   "source": [
    "#### Answer\n",
    "\n",
    "***"
   ]
  },
  {
   "cell_type": "markdown",
   "id": "3d485277",
   "metadata": {},
   "source": []
  },
  {
   "cell_type": "code",
   "execution_count": null,
   "id": "48e8918b",
   "metadata": {},
   "outputs": [],
   "source": [
    "#### Answer\n",
    "\n",
    "***"
   ]
  },
  {
   "cell_type": "markdown",
   "id": "9f175f94",
   "metadata": {},
   "source": []
  },
  {
   "cell_type": "code",
   "execution_count": null,
   "id": "8f39c0b2",
   "metadata": {},
   "outputs": [],
   "source": [
    "#### Answer\n",
    "\n",
    "***"
   ]
  }
 ],
 "metadata": {
  "kernelspec": {
   "display_name": "Python 3 (ipykernel)",
   "language": "python",
   "name": "python3"
  },
  "language_info": {
   "codemirror_mode": {
    "name": "ipython",
    "version": 3
   },
   "file_extension": ".py",
   "mimetype": "text/x-python",
   "name": "python",
   "nbconvert_exporter": "python",
   "pygments_lexer": "ipython3",
   "version": "3.9.7"
  }
 },
 "nbformat": 4,
 "nbformat_minor": 5
}
