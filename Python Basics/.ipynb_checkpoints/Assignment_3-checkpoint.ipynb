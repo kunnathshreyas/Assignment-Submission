{
 "cells": [
  {
   "cell_type": "markdown",
   "id": "db13a7f9",
   "metadata": {},
   "source": [
    "1. Why are functions advantageous to have in your programs?"
   ]
  },
  {
   "cell_type": "markdown",
   "id": "955a705c",
   "metadata": {},
   "source": [
    "#### Answer\n",
    "Functions help us with the following:\n",
    "* Writing modular code\n",
    "* Writing re-usable code\n",
    "* Writing clean code\n",
    "* Allowing us to use one block of code to perform different operations for different types of inputs\n",
    "\n",
    "***"
   ]
  },
  {
   "cell_type": "markdown",
   "id": "9f518eb9",
   "metadata": {},
   "source": [
    "2. When does the code in a function run: when it's specified or when it's called?"
   ]
  },
  {
   "cell_type": "markdown",
   "id": "6c4ad234",
   "metadata": {},
   "source": [
    "#### Answer\n",
    "The code in a function is run when it is called. However, syntactical rules are still checked for the function definition even if the function isn't called.\n",
    "\n",
    "***"
   ]
  },
  {
   "cell_type": "markdown",
   "id": "0c79d30d",
   "metadata": {},
   "source": [
    "3. What statement creates a function?"
   ]
  },
  {
   "cell_type": "markdown",
   "id": "e30a224a",
   "metadata": {},
   "source": [
    "#### Answer\n",
    "'def' keyword is used, followed by the function name and the appropriate arguments in paranthesis. This ends with a colon.\n",
    "This creates a function. Any indented code below this line is the function's definition.\n",
    "\n",
    "***"
   ]
  },
  {
   "cell_type": "markdown",
   "id": "75a436b5",
   "metadata": {},
   "source": [
    "4. What is the difference between a function and a function call?"
   ]
  },
  {
   "cell_type": "markdown",
   "id": "2cf2597b",
   "metadata": {},
   "source": [
    "#### Answer\n",
    "\n",
    "A function is said to be the code that is to be re-used. The fundamental code that has all the different variations dynamically/statically coded into it.\n",
    "\n",
    "A function call is one instance of this function with specific variables.\n",
    "\n",
    "***"
   ]
  },
  {
   "cell_type": "markdown",
   "id": "97798290",
   "metadata": {},
   "source": [
    "5. How many global scopes are there in a Python program? How many local scopes?"
   ]
  },
  {
   "cell_type": "markdown",
   "id": "63e9338f",
   "metadata": {},
   "source": [
    "#### Answer\n",
    "There is one global scope per Python program. The global scope variables are stored and remembered until the program terminates. There are as many local scopes are there are methods defined in the said program. Global variables can be created from inside a function using the 'global' keyword\n",
    "\n",
    "***"
   ]
  },
  {
   "cell_type": "markdown",
   "id": "edbbb9ed",
   "metadata": {},
   "source": [
    "6. What happens to variables in a local scope when the function call returns?"
   ]
  },
  {
   "cell_type": "markdown",
   "id": "9933ec3a",
   "metadata": {},
   "source": [
    "#### Answer\n",
    "The variables in a local scope will not be retained once the function call is returned.\n",
    "\n",
    "***"
   ]
  },
  {
   "cell_type": "markdown",
   "id": "59f12ffb",
   "metadata": {},
   "source": [
    "7. What is the concept of a return value? Is it possible to have a return value in an expression?"
   ]
  },
  {
   "cell_type": "markdown",
   "id": "c117578a",
   "metadata": {},
   "source": [
    "#### Answer\n",
    "Return is a keyword that tells the program to stop executing the function and get out of local scope. The main use for this is to be able to manipulate/work with the results of a function elsewhere in the program. It defaults to 'None' value when no value is mentioned in the return value.\n",
    "\n",
    "***"
   ]
  },
  {
   "cell_type": "markdown",
   "id": "d95fcdcc",
   "metadata": {},
   "source": [
    "8. If a function does not have a return statement, what is the return value of a call to that function?"
   ]
  },
  {
   "cell_type": "markdown",
   "id": "e17f91c8",
   "metadata": {},
   "source": [
    "#### Answer\n",
    "When there is no return statement to a function, python returns 'None' as default.\n",
    "\n",
    "\n",
    "***"
   ]
  },
  {
   "cell_type": "markdown",
   "id": "4143351e",
   "metadata": {},
   "source": [
    "9. How do you make a function variable refer to the global variable?"
   ]
  },
  {
   "cell_type": "code",
   "execution_count": 1,
   "id": "1ca1fc23",
   "metadata": {},
   "outputs": [
    {
     "data": {
      "text/plain": [
       "30"
      ]
     },
     "execution_count": 1,
     "metadata": {},
     "output_type": "execute_result"
    }
   ],
   "source": [
    "#### Answer\n",
    "\n",
    "a = 10\n",
    "b = 20\n",
    "\n",
    "def test(x,y):\n",
    "    sum = x+y\n",
    "    return sum\n",
    "\n",
    "test(a,b)"
   ]
  },
  {
   "cell_type": "markdown",
   "id": "054a53a8",
   "metadata": {},
   "source": [
    "A function can refer to any global variable from inside the function as shown above.\n",
    "a and b are global variables called as parameters to the function 'test'.\n",
    "This is exactly the same as creating a global variable using the global keyword in any other function within the program.\n",
    "***"
   ]
  },
  {
   "cell_type": "markdown",
   "id": "df3ed5c5",
   "metadata": {},
   "source": [
    "10. What is the data type of None?"
   ]
  },
  {
   "cell_type": "markdown",
   "id": "1c07b98a",
   "metadata": {},
   "source": [
    "#### Answer\n",
    "None data type is usually used to define a null value. However, it doesn't equal a null value, an empty string or 0.\n",
    "\n",
    "***"
   ]
  },
  {
   "cell_type": "markdown",
   "id": "ffa86389",
   "metadata": {},
   "source": [
    "11. What does the sentence import areallyourpetsnamederic do?"
   ]
  },
  {
   "cell_type": "markdown",
   "id": "3ddc397b",
   "metadata": {},
   "source": [
    "#### Answer\n",
    "import areallyourpetsnamederic\n",
    "\n",
    "This statement would import a library if such a library was defined. However, there is no such module in base Python.\n",
    "\n",
    "***"
   ]
  },
  {
   "cell_type": "markdown",
   "id": "e54849be",
   "metadata": {},
   "source": [
    "12. If you had a bacon() feature in a spam module, what would you call it after importing spam?"
   ]
  },
  {
   "cell_type": "markdown",
   "id": "dd280edf",
   "metadata": {},
   "source": [
    "#### Answer\n",
    "Calling bacon() in spam module is done using the dot operator. The following line demonstrates this.\n",
    "\n",
    "spam.bacon()\n",
    "\n",
    "***"
   ]
  },
  {
   "cell_type": "markdown",
   "id": "9b5c1305",
   "metadata": {},
   "source": [
    "13. What can you do to save a programme from crashing if it encounters an error?"
   ]
  },
  {
   "cell_type": "markdown",
   "id": "168169e7",
   "metadata": {},
   "source": [
    "#### Answer\n",
    "We can either shut down the kernel or use a try-except block to stop a programme from crashing. \n",
    "To shut down the kernel, we can press Ctrl-C in the kernel window. This will not handle the error.\n",
    "However, using try-except block will completely handle the error.\n",
    "\n",
    "***"
   ]
  },
  {
   "cell_type": "markdown",
   "id": "79773eac",
   "metadata": {},
   "source": [
    "14. What is the purpose of the try clause? What is the purpose of the except clause?"
   ]
  },
  {
   "cell_type": "markdown",
   "id": "592e01d4",
   "metadata": {},
   "source": [
    "#### Answer\n",
    "Try clause is used to handle errors. In an if statement, the error terminates the program; whereas try clause helps us bypass the code in case of an error and continue the program into the except clause. The except clause can be used to throw customized error messages.\n",
    "\n",
    "***"
   ]
  }
 ],
 "metadata": {
  "kernelspec": {
   "display_name": "Python 3 (ipykernel)",
   "language": "python",
   "name": "python3"
  },
  "language_info": {
   "codemirror_mode": {
    "name": "ipython",
    "version": 3
   },
   "file_extension": ".py",
   "mimetype": "text/x-python",
   "name": "python",
   "nbconvert_exporter": "python",
   "pygments_lexer": "ipython3",
   "version": "3.9.7"
  }
 },
 "nbformat": 4,
 "nbformat_minor": 5
}
