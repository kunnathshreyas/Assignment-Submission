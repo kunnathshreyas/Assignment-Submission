{
 "cells": [
  {
   "cell_type": "markdown",
   "id": "db13a7f9",
   "metadata": {},
   "source": [
    "1. Why are functions advantageous to have in your programs?"
   ]
  },
  {
   "cell_type": "markdown",
   "id": "955a705c",
   "metadata": {},
   "source": [
    "#### Answer\n",
    "Functions help us with the following:\n",
    "* Writing modular code\n",
    "* Writing re-usable code\n",
    "* Writing clean code\n",
    "* Allowing us to use one block of code to perform different operations for different types of inputs\n",
    "\n",
    "***"
   ]
  },
  {
   "cell_type": "markdown",
   "id": "9f518eb9",
   "metadata": {},
   "source": [
    "2. When does the code in a function run: when it's specified or when it's called?"
   ]
  },
  {
   "cell_type": "markdown",
   "id": "6c4ad234",
   "metadata": {},
   "source": [
    "#### Answer\n",
    "The code in a function is run when it is called. However, syntactical rules are still checked for the function definition even if the function isn't called.\n",
    "\n",
    "***"
   ]
  },
  {
   "cell_type": "markdown",
   "id": "0c79d30d",
   "metadata": {},
   "source": [
    "3. What statement creates a function?"
   ]
  },
  {
   "cell_type": "markdown",
   "id": "e30a224a",
   "metadata": {},
   "source": [
    "#### Answer\n",
    "'def' keyword is used, followed by the function name and the appropriate arguments in paranthesis. This ends with a colon.\n",
    "This creates a function. Any indented code below this line is the function's definition.\n",
    "\n",
    "***"
   ]
  },
  {
   "cell_type": "markdown",
   "id": "75a436b5",
   "metadata": {},
   "source": [
    "4. What is the difference between a function and a function call?"
   ]
  },
  {
   "cell_type": "markdown",
   "id": "2cf2597b",
   "metadata": {},
   "source": [
    "#### Answer\n",
    "\n",
    "A function is said to be the code that is to be re-used. The fundamental code that has all the different variations dynamically/statically coded into it.\n",
    "\n",
    "A function call is one instance of this function with specific variables.\n",
    "\n",
    "***"
   ]
  },
  {
   "cell_type": "markdown",
   "id": "97798290",
   "metadata": {},
   "source": [
    "5. How many global scopes are there in a Python program? How many local scopes?"
   ]
  },
  {
   "cell_type": "markdown",
   "id": "63e9338f",
   "metadata": {},
   "source": [
    "#### Answer\n",
    "\n",
    "\n",
    "***"
   ]
  },
  {
   "cell_type": "markdown",
   "id": "edbbb9ed",
   "metadata": {},
   "source": [
    "6. What happens to variables in a local scope when the function call returns?"
   ]
  },
  {
   "cell_type": "markdown",
   "id": "9933ec3a",
   "metadata": {},
   "source": [
    "#### Answer\n",
    "\n",
    "\n",
    "***"
   ]
  },
  {
   "cell_type": "markdown",
   "id": "59f12ffb",
   "metadata": {},
   "source": [
    "7. What is the concept of a return value? Is it possible to have a return value in an expression?"
   ]
  },
  {
   "cell_type": "markdown",
   "id": "c117578a",
   "metadata": {},
   "source": [
    "#### Answer\n",
    "\n",
    "\n",
    "***"
   ]
  },
  {
   "cell_type": "markdown",
   "id": "d95fcdcc",
   "metadata": {},
   "source": [
    "8. If a function does not have a return statement, what is the return value of a call to that function?"
   ]
  },
  {
   "cell_type": "markdown",
   "id": "e17f91c8",
   "metadata": {},
   "source": [
    "#### Answer\n",
    "\n",
    "\n",
    "***"
   ]
  },
  {
   "cell_type": "markdown",
   "id": "4143351e",
   "metadata": {},
   "source": [
    "9. How do you make a function variable refer to the global variable?"
   ]
  },
  {
   "cell_type": "markdown",
   "id": "5c7b347c",
   "metadata": {},
   "source": [
    "#### Answer\n",
    "\n",
    "\n",
    "***"
   ]
  },
  {
   "cell_type": "markdown",
   "id": "df3ed5c5",
   "metadata": {},
   "source": [
    "10. What is the data type of None?"
   ]
  },
  {
   "cell_type": "markdown",
   "id": "1c07b98a",
   "metadata": {},
   "source": [
    "#### Answer\n",
    "\n",
    "\n",
    "***"
   ]
  },
  {
   "cell_type": "markdown",
   "id": "ffa86389",
   "metadata": {},
   "source": [
    "11. What does the sentence import areallyourpetsnamederic do?"
   ]
  },
  {
   "cell_type": "markdown",
   "id": "3ddc397b",
   "metadata": {},
   "source": [
    "#### Answer\n",
    "\n",
    "\n",
    "***"
   ]
  },
  {
   "cell_type": "markdown",
   "id": "e54849be",
   "metadata": {},
   "source": [
    "12. If you had a bacon() feature in a spam module, what would you call it after importing spam?"
   ]
  },
  {
   "cell_type": "markdown",
   "id": "dd280edf",
   "metadata": {},
   "source": [
    "#### Answer\n",
    "\n",
    "\n",
    "***"
   ]
  },
  {
   "cell_type": "markdown",
   "id": "9b5c1305",
   "metadata": {},
   "source": [
    "13. What can you do to save a programme from crashing if it encounters an error?"
   ]
  },
  {
   "cell_type": "markdown",
   "id": "168169e7",
   "metadata": {},
   "source": [
    "#### Answer\n",
    "\n",
    "\n",
    "***"
   ]
  },
  {
   "cell_type": "markdown",
   "id": "79773eac",
   "metadata": {},
   "source": [
    "14. What is the purpose of the try clause? What is the purpose of the except clause?"
   ]
  },
  {
   "cell_type": "markdown",
   "id": "592e01d4",
   "metadata": {},
   "source": [
    "#### Answer\n",
    "\n",
    "\n",
    "***"
   ]
  }
 ],
 "metadata": {
  "kernelspec": {
   "display_name": "Python 3 (ipykernel)",
   "language": "python",
   "name": "python3"
  },
  "language_info": {
   "codemirror_mode": {
    "name": "ipython",
    "version": 3
   },
   "file_extension": ".py",
   "mimetype": "text/x-python",
   "name": "python",
   "nbconvert_exporter": "python",
   "pygments_lexer": "ipython3",
   "version": "3.9.7"
  }
 },
 "nbformat": 4,
 "nbformat_minor": 5
}
