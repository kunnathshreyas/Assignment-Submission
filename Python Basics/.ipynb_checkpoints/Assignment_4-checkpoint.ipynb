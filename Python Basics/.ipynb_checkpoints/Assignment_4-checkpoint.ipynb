{
 "cells": [
  {
   "cell_type": "markdown",
   "id": "9a84f530",
   "metadata": {},
   "source": [
    "1. What exactly is []?"
   ]
  },
  {
   "cell_type": "markdown",
   "id": "f077037c",
   "metadata": {},
   "source": [
    "#### Answer\n",
    "[] is a representation of list. If there are no elements mentioned inside the brackets, it would be an empty list.\n",
    "***"
   ]
  },
  {
   "cell_type": "markdown",
   "id": "9e000b7d",
   "metadata": {},
   "source": [
    "2. In a list of values stored in a variable called spam, how would you assign the value 'hello' as the third value? (Assume [2, 4, 6, 8, 10] are in spam.)\n",
    "Let's pretend the spam includes the list ['a', 'b', 'c', 'd'] for the next three queries."
   ]
  },
  {
   "cell_type": "code",
   "execution_count": 1,
   "id": "410a4191",
   "metadata": {},
   "outputs": [
    {
     "name": "stdout",
     "output_type": "stream",
     "text": [
      "[2, 4, 'hello', 8, 10]\n"
     ]
    }
   ],
   "source": [
    "#### Answer\n",
    "spam = [2,4,6,8,10]\n",
    "spam[2] = 'hello'\n",
    "# Here we use 2 as index since the indexing starts from 0 and we want hello as the third value.\n",
    "print(spam)"
   ]
  },
  {
   "cell_type": "markdown",
   "id": "471018c1",
   "metadata": {},
   "source": [
    "***"
   ]
  },
  {
   "cell_type": "markdown",
   "id": "0d51605d",
   "metadata": {},
   "source": [
    "3. What is the value of spam[int(int('3' * 2) / 11)]?"
   ]
  },
  {
   "cell_type": "code",
   "execution_count": 2,
   "id": "5b3c3095",
   "metadata": {},
   "outputs": [
    {
     "name": "stdout",
     "output_type": "stream",
     "text": [
      "spam[int(int('3' * 2) / 11)] =  d\n"
     ]
    }
   ],
   "source": [
    "#### Answer\n",
    "spam = ['a','b','c','d']\n",
    "print(\"spam[int(int('3' * 2) / 11)] = \", spam[int(int('3' * 2) / 11)])\n",
    "\n",
    "# '3' * 2 becomes '33'\n",
    "# then '33' gets converted to integer, which divides by 11 to give 3.0\n",
    "# This 3.0 gets converted to integer which becomes the index called by spam.\n",
    "# spam[3] = 'd'"
   ]
  },
  {
   "cell_type": "markdown",
   "id": "a923996f",
   "metadata": {},
   "source": [
    "***"
   ]
  },
  {
   "cell_type": "markdown",
   "id": "5f942622",
   "metadata": {},
   "source": [
    "4. What is the value of spam[-1]?"
   ]
  },
  {
   "cell_type": "code",
   "execution_count": 3,
   "id": "550cc1e1",
   "metadata": {
    "scrolled": true
   },
   "outputs": [
    {
     "name": "stdout",
     "output_type": "stream",
     "text": [
      "spam[-1] =  d\n"
     ]
    }
   ],
   "source": [
    "#### Answer\n",
    "print(\"spam[-1] = \", spam[-1])\n",
    "\n",
    "# Negative indexing means to start the indexing from the end."
   ]
  },
  {
   "cell_type": "markdown",
   "id": "ea7a4490",
   "metadata": {},
   "source": [
    "***"
   ]
  },
  {
   "cell_type": "markdown",
   "id": "183ea1d0",
   "metadata": {},
   "source": [
    "5. What is the value of spam[:2]?\n",
    "Let's pretend bacon has the list [3.14, 'cat,' 11, 'cat,' True] for the next three questions."
   ]
  },
  {
   "cell_type": "code",
   "execution_count": 4,
   "id": "a52fd573",
   "metadata": {},
   "outputs": [
    {
     "name": "stdout",
     "output_type": "stream",
     "text": [
      "spam[:2] =  ['a', 'b']\n"
     ]
    }
   ],
   "source": [
    "#### Answer\n",
    "print(\"spam[:2] = \", spam[:2])\n",
    "\n",
    "# Here, we start from default i.e., 0 but decided to stop at index 2.\n"
   ]
  },
  {
   "cell_type": "markdown",
   "id": "51dd2afd",
   "metadata": {},
   "source": [
    "***"
   ]
  },
  {
   "cell_type": "markdown",
   "id": "4a80ad16",
   "metadata": {},
   "source": [
    "6. What is the value of bacon.index('cat')?"
   ]
  },
  {
   "cell_type": "code",
   "execution_count": 5,
   "id": "b188771a",
   "metadata": {},
   "outputs": [
    {
     "name": "stdout",
     "output_type": "stream",
     "text": [
      "1\n"
     ]
    }
   ],
   "source": [
    "#### Answer\n",
    "bacon = [3.14, 'cat', 11, 'cat', True]\n",
    "print(bacon.index('cat'))\n",
    "\n",
    "# index() iterates through the list to find the value 'cat'\n",
    "# However only returns the first value seen, in this case it would be 1."
   ]
  },
  {
   "cell_type": "markdown",
   "id": "c9cbf633",
   "metadata": {},
   "source": [
    "***"
   ]
  },
  {
   "cell_type": "markdown",
   "id": "2492aab2",
   "metadata": {},
   "source": [
    "7. How does bacon.append(99) change the look of the list value in bacon?"
   ]
  },
  {
   "cell_type": "code",
   "execution_count": 6,
   "id": "ccb225d1",
   "metadata": {},
   "outputs": [
    {
     "name": "stdout",
     "output_type": "stream",
     "text": [
      "[3.14, 'cat', 11, 'cat', True, 99]\n"
     ]
    }
   ],
   "source": [
    "#### Answer\n",
    "bacon.append(99)\n",
    "print(bacon)\n",
    "\n",
    "# append() enters the element entered into the list as the last element."
   ]
  },
  {
   "cell_type": "markdown",
   "id": "55564506",
   "metadata": {},
   "source": [
    "***"
   ]
  },
  {
   "cell_type": "markdown",
   "id": "bbb082f1",
   "metadata": {},
   "source": [
    "8. How does bacon.remove('cat') change the look of the list in bacon?"
   ]
  },
  {
   "cell_type": "code",
   "execution_count": 7,
   "id": "1074f9a3",
   "metadata": {},
   "outputs": [
    {
     "name": "stdout",
     "output_type": "stream",
     "text": [
      "[3.14, 11, 'cat', True, 99]\n"
     ]
    }
   ],
   "source": [
    "#### Answer\n",
    "bacon.remove('cat')\n",
    "print(bacon)\n",
    "# Similar to index(), remove() also performs the operation on the first instance that the logic is satisfied in."
   ]
  },
  {
   "cell_type": "markdown",
   "id": "c2540a49",
   "metadata": {},
   "source": [
    "***"
   ]
  },
  {
   "cell_type": "markdown",
   "id": "522baf0f",
   "metadata": {},
   "source": [
    "9. What are the list concatenation and list replication operators?"
   ]
  },
  {
   "cell_type": "code",
   "execution_count": 8,
   "id": "b3fafd0a",
   "metadata": {},
   "outputs": [
    {
     "name": "stdout",
     "output_type": "stream",
     "text": [
      "List concatenation would be spam + bacon =  ['a', 'b', 'c', 'd', 3.14, 11, 'cat', True, 99]\n",
      "List replication would be spam*2 =  ['a', 'b', 'c', 'd', 'a', 'b', 'c', 'd']\n"
     ]
    }
   ],
   "source": [
    "#### Answer\n",
    "# Lets take the two lists we have used so far, spam and bacon.\n",
    "\n",
    "print(\"List concatenation would be spam + bacon = \", spam+bacon)\n",
    "print(\"List replication would be spam*2 = \", spam*2)"
   ]
  },
  {
   "cell_type": "markdown",
   "id": "ec1b2564",
   "metadata": {},
   "source": [
    "***"
   ]
  },
  {
   "cell_type": "markdown",
   "id": "3d485277",
   "metadata": {},
   "source": [
    "10. What is difference between the list methods append() and insert()?"
   ]
  },
  {
   "cell_type": "markdown",
   "id": "e44a653b",
   "metadata": {},
   "source": [
    "#### Answer\n",
    "append() adds a new element to the end of the list. append() does not affect the indices of the existing elements.<br>\n",
    "insert() adds a new element at the desired index of a list. insert() pushes the indices of the later elements backwards.\n",
    "***"
   ]
  },
  {
   "cell_type": "markdown",
   "id": "9f175f94",
   "metadata": {},
   "source": [
    "11. What are the two methods for removing items from a list?"
   ]
  },
  {
   "cell_type": "markdown",
   "id": "8729b8b2",
   "metadata": {},
   "source": [
    "#### Answer\n",
    "pop() and remove() are two methods to remove items from a list.\n",
    "\n",
    "pop() removes items based on their index. pop() also returns the value of the removed element.<br>\n",
    "\n",
    "remove() removes items based on their value. remove() returns None.<br>\n",
    "\n",
    "del can also be used to remove items from a list. <br>\n",
    "Note that this is a system level command and also can be used to remove multiple items at once using slicing.<br>\n",
    "***"
   ]
  },
  {
   "cell_type": "markdown",
   "id": "e1c03429",
   "metadata": {},
   "source": [
    "12. Describe how list values and string values are identical."
   ]
  },
  {
   "cell_type": "markdown",
   "id": "912b1b9f",
   "metadata": {},
   "source": [
    "#### Answer\n",
    "Both str and list objects are iterable.<br>\n",
    "We can iterate through each element of the list or each character of the string using a loop.<br>\n",
    "We can also use len() on both these objects. <br>\n",
    "***"
   ]
  },
  {
   "cell_type": "markdown",
   "id": "8924df12",
   "metadata": {},
   "source": [
    "13. What's the difference between tuples and lists?"
   ]
  },
  {
   "cell_type": "markdown",
   "id": "59e0e018",
   "metadata": {},
   "source": [
    "#### Answer\n",
    "tuples are immutable whereas lists are mutable. <br>\n",
    "This means once a tuple is created in memory, we cannot change the elements in it.<br>\n",
    "We can manipulate lists as much as we want. However this also makes list insecure for a few applications.<br>\n",
    "***"
   ]
  },
  {
   "cell_type": "markdown",
   "id": "9ada5047",
   "metadata": {},
   "source": [
    "14. How do you type a tuple value that only contains the integer 42?"
   ]
  },
  {
   "cell_type": "code",
   "execution_count": 9,
   "id": "e03f2765",
   "metadata": {},
   "outputs": [
    {
     "name": "stdout",
     "output_type": "stream",
     "text": [
      "(42,)\n"
     ]
    }
   ],
   "source": [
    "#### Answer\n",
    "t = (42,)\n",
    "print(t)"
   ]
  },
  {
   "cell_type": "markdown",
   "id": "0c3e9d13",
   "metadata": {},
   "source": [
    "***"
   ]
  },
  {
   "cell_type": "markdown",
   "id": "4c29fdab",
   "metadata": {},
   "source": [
    "15. How do you get a list value's tuple form? How do you get a tuple value's list form?"
   ]
  },
  {
   "cell_type": "markdown",
   "id": "4b026771",
   "metadata": {},
   "source": [
    "#### Answer\n",
    "We can use tuple(x) to convert x into a tuple. <br>\n",
    "Similarly we can use list(x) to convert x back into a list.<br>\n",
    "***"
   ]
  },
  {
   "cell_type": "markdown",
   "id": "dd93a05d",
   "metadata": {},
   "source": [
    "16. Variables that \"contain\" list values are not necessarily lists themselves. Instead, what do they contain?"
   ]
  },
  {
   "cell_type": "markdown",
   "id": "90109f11",
   "metadata": {},
   "source": [
    "#### Answer\n",
    "They contain the references to the lists.\n",
    "***"
   ]
  },
  {
   "cell_type": "markdown",
   "id": "5cb710c6",
   "metadata": {},
   "source": [
    "17. How do you distinguish between copy.copy() and copy.deepcopy()?"
   ]
  },
  {
   "cell_type": "markdown",
   "id": "8cbf3121",
   "metadata": {},
   "source": [
    "#### Answer\n",
    "copy.copy() will create a new variable for the value given but retain the same memory address.<br>\n",
    "copy.deepcopy() will create a new variable in a new memory address and create a copy independent of the predecessor.<br>\n",
    "***"
   ]
  }
 ],
 "metadata": {
  "kernelspec": {
   "display_name": "Python 3 (ipykernel)",
   "language": "python",
   "name": "python3"
  },
  "language_info": {
   "codemirror_mode": {
    "name": "ipython",
    "version": 3
   },
   "file_extension": ".py",
   "mimetype": "text/x-python",
   "name": "python",
   "nbconvert_exporter": "python",
   "pygments_lexer": "ipython3",
   "version": "3.9.7"
  }
 },
 "nbformat": 4,
 "nbformat_minor": 5
}
