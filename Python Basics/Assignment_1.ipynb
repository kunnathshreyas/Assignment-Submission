{
 "cells": [
  {
   "cell_type": "markdown",
   "id": "801b546e",
   "metadata": {},
   "source": [
    "1. In the below elements which of them are values or an expression? eg:- values can be integer or string and expressions will be mathematical operators.\n",
    "* \n",
    "'hello'\n",
    "-87.8\n",
    "- \n",
    "/ \n",
    "+\t\n",
    "6"
   ]
  },
  {
   "cell_type": "markdown",
   "id": "d56223c6",
   "metadata": {},
   "source": [
    "#### Answer\n",
    "'hello', 87.8 and 6 are values\n",
    "\n",
    "/ is an expression\n",
    "\n",
    "---------------------------------------------------"
   ]
  },
  {
   "cell_type": "markdown",
   "id": "d79bb7ca",
   "metadata": {},
   "source": [
    "2. What is the difference between string and variable?"
   ]
  },
  {
   "cell_type": "markdown",
   "id": "73223bef",
   "metadata": {},
   "source": [
    "#### Answer\n",
    "String is a datatype whereas a variable is the name of a location in memory that can store a datatype.\n",
    "\n",
    "---------------------------------------------------"
   ]
  },
  {
   "cell_type": "markdown",
   "id": "8fea47cb",
   "metadata": {},
   "source": [
    "3. Describe three different data types."
   ]
  },
  {
   "cell_type": "markdown",
   "id": "e276e92f",
   "metadata": {},
   "source": [
    "#### Answer\n",
    "Three data types in Python would be:\n",
    "1. str - String data type. Takes any character or integer as long as it is enclosed in single/double quotes.\n",
    "2. int - Integer data type. Takes an integer value. In Python3, it can take as large a value as memory permits.\n",
    "3. bool - Boolean data type. Takes True or False. This is equivalent to a single bit or electrical switch. Useful when forming logic.\n",
    "\n",
    "---------------------------------------------------"
   ]
  },
  {
   "cell_type": "markdown",
   "id": "09acffb8",
   "metadata": {},
   "source": [
    "4. What is an expression made up of? What do all expressions do?"
   ]
  },
  {
   "cell_type": "markdown",
   "id": "cc21ad5a",
   "metadata": {},
   "source": [
    "#### Answer\n",
    "Expessions are made of operators and operands. They are the code equivalent to a mathematical expression.\n",
    "They help us either calculate or compare values and give results as outputs.\n",
    "\n",
    "---------------------------------------------------"
   ]
  },
  {
   "cell_type": "markdown",
   "id": "d39ee986",
   "metadata": {},
   "source": [
    "5. This assignment statements, like spam = 10. What is the difference between an expression and a statement?"
   ]
  },
  {
   "cell_type": "markdown",
   "id": "3af87365",
   "metadata": {},
   "source": [
    "#### Answer\n",
    "A statement executes an instruction that changes the state of the system. They do not necessarily have to give an output.\n",
    "However, an expression will always produce or return a result in the form of an output. They don't change the state of a system.\n",
    "\n",
    "---------------------------------------------------"
   ]
  },
  {
   "cell_type": "markdown",
   "id": "5453bed0",
   "metadata": {},
   "source": [
    "6. After running the following code, what does the variable bacon contain?\n",
    "\n",
    "bacon = 22\n",
    "\n",
    "bacon + 1"
   ]
  },
  {
   "cell_type": "markdown",
   "id": "dd51bf15",
   "metadata": {},
   "source": [
    "#### Answer\n",
    "In this code, bacon was assigned 22. 1 was added to it for execution, however it was not stored in bacon. \n",
    "\n",
    "So bacon will contain 22.\n",
    "\n",
    "---------------------------------------------------"
   ]
  },
  {
   "cell_type": "markdown",
   "id": "33748879",
   "metadata": {},
   "source": [
    "7. What should the values of the following two terms be?\n",
    "\n",
    "'spam' + 'spamspam'\n",
    "\n",
    "'spam' * 3"
   ]
  },
  {
   "cell_type": "markdown",
   "id": "943aea4c",
   "metadata": {},
   "source": [
    "#### Answer\n",
    "Both of the terms should give 'spamspamspam'. They're different ways to do the same thing\n",
    "\n",
    "---------------------------------------------------"
   ]
  },
  {
   "cell_type": "markdown",
   "id": "cce69683",
   "metadata": {},
   "source": [
    "8. Why is eggs a valid variable name while 100 is invalid?"
   ]
  },
  {
   "cell_type": "markdown",
   "id": "77133fd1",
   "metadata": {},
   "source": [
    "#### Answer\n",
    "Python doesn't allow variable names to start with a numerical value. This is to make reading the instructions intuitive for the programmer and the compiler.\n",
    "\n",
    "This is the reason why eggs is a valid variable name whereas 100 would be invalid.\n",
    "\n",
    "---------------------------------------------------"
   ]
  },
  {
   "cell_type": "markdown",
   "id": "42dcf680",
   "metadata": {},
   "source": [
    "9. What three functions can be used to get the integer, floating-point number, or string version of a value?"
   ]
  },
  {
   "cell_type": "markdown",
   "id": "e78ef67d",
   "metadata": {},
   "source": [
    "#### Answer\n",
    "The type-casting functions to get the integer, float and string versions of a value are int(), float() and str() respectively.\n",
    "\n",
    "Note that the hirearchy goes as str ⊃ float ⊃ int. So type-casting from a subset is recommended.\n",
    "\n",
    "---------------------------------------------------"
   ]
  },
  {
   "cell_type": "markdown",
   "id": "88530ecd",
   "metadata": {},
   "source": [
    "10. Why does this expression cause an error? How can you fix it?\n",
    "\n",
    "'I have eaten ' + 99 + ' burritos.'"
   ]
  },
  {
   "cell_type": "markdown",
   "id": "4bb3a393",
   "metadata": {},
   "source": [
    "#### Answer\n",
    "This expression causes an error because + is used for operator overloading. In case of a numerical class, it calls the sum function whereas in case of string class, it calls the concatenation function\n",
    "\n",
    "\n",
    "\n",
    "---------------------------------------------------"
   ]
  }
 ],
 "metadata": {
  "kernelspec": {
   "display_name": "Python 3 (ipykernel)",
   "language": "python",
   "name": "python3"
  },
  "language_info": {
   "codemirror_mode": {
    "name": "ipython",
    "version": 3
   },
   "file_extension": ".py",
   "mimetype": "text/x-python",
   "name": "python",
   "nbconvert_exporter": "python",
   "pygments_lexer": "ipython3",
   "version": "3.9.7"
  }
 },
 "nbformat": 4,
 "nbformat_minor": 5
}
