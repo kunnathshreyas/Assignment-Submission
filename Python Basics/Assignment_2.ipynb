{
 "cells": [
  {
   "cell_type": "markdown",
   "id": "2d7b619a",
   "metadata": {},
   "source": [
    "1. What are the two values of the Boolean data type? How do you write them?"
   ]
  },
  {
   "cell_type": "markdown",
   "id": "811e9692",
   "metadata": {},
   "source": [
    "#### Answer\n",
    "The two values of Boolean data type are True and False.\n",
    "We make sure to write them with the correct casing as shown above.\n",
    "\n",
    "---------------------------------------------------"
   ]
  },
  {
   "cell_type": "markdown",
   "id": "cea07d83",
   "metadata": {},
   "source": [
    "2. What are the three different types of Boolean operators?"
   ]
  },
  {
   "cell_type": "markdown",
   "id": "0e5d826a",
   "metadata": {},
   "source": [
    "#### Answer\n",
    "The three different types of Boolean operators are AND, OR and NOT.\n",
    "\n",
    "---------------------------------------------------"
   ]
  },
  {
   "cell_type": "markdown",
   "id": "4f723e31",
   "metadata": {},
   "source": [
    "3. Make a list of each Boolean operator's truth tables (i.e. every possible combination of Boolean values for the operator and what it evaluate )."
   ]
  },
  {
   "cell_type": "code",
   "execution_count": 1,
   "id": "aba0a9f0",
   "metadata": {},
   "outputs": [
    {
     "data": {
      "text/html": [
       "<div>\n",
       "<style scoped>\n",
       "    .dataframe tbody tr th:only-of-type {\n",
       "        vertical-align: middle;\n",
       "    }\n",
       "\n",
       "    .dataframe tbody tr th {\n",
       "        vertical-align: top;\n",
       "    }\n",
       "\n",
       "    .dataframe thead th {\n",
       "        text-align: right;\n",
       "    }\n",
       "</style>\n",
       "<table border=\"1\" class=\"dataframe\">\n",
       "  <thead>\n",
       "    <tr style=\"text-align: right;\">\n",
       "      <th></th>\n",
       "      <th>A</th>\n",
       "      <th>B</th>\n",
       "      <th>A AND B</th>\n",
       "      <th>A OR B</th>\n",
       "      <th>NOT A</th>\n",
       "      <th>NOT B</th>\n",
       "      <th>NOT A AND B</th>\n",
       "      <th>NOT A OR B</th>\n",
       "      <th>A AND NOT B</th>\n",
       "      <th>A OR NOT B</th>\n",
       "      <th>NOT A AND NOT B</th>\n",
       "      <th>NOT A OR NOT B</th>\n",
       "    </tr>\n",
       "  </thead>\n",
       "  <tbody>\n",
       "    <tr>\n",
       "      <th>0</th>\n",
       "      <td>1</td>\n",
       "      <td>1</td>\n",
       "      <td>1</td>\n",
       "      <td>1</td>\n",
       "      <td>0</td>\n",
       "      <td>0</td>\n",
       "      <td>0</td>\n",
       "      <td>1</td>\n",
       "      <td>0</td>\n",
       "      <td>1</td>\n",
       "      <td>0</td>\n",
       "      <td>0</td>\n",
       "    </tr>\n",
       "    <tr>\n",
       "      <th>1</th>\n",
       "      <td>1</td>\n",
       "      <td>0</td>\n",
       "      <td>0</td>\n",
       "      <td>1</td>\n",
       "      <td>0</td>\n",
       "      <td>1</td>\n",
       "      <td>0</td>\n",
       "      <td>0</td>\n",
       "      <td>1</td>\n",
       "      <td>1</td>\n",
       "      <td>0</td>\n",
       "      <td>1</td>\n",
       "    </tr>\n",
       "    <tr>\n",
       "      <th>2</th>\n",
       "      <td>0</td>\n",
       "      <td>1</td>\n",
       "      <td>0</td>\n",
       "      <td>1</td>\n",
       "      <td>1</td>\n",
       "      <td>0</td>\n",
       "      <td>1</td>\n",
       "      <td>1</td>\n",
       "      <td>0</td>\n",
       "      <td>0</td>\n",
       "      <td>0</td>\n",
       "      <td>1</td>\n",
       "    </tr>\n",
       "    <tr>\n",
       "      <th>3</th>\n",
       "      <td>0</td>\n",
       "      <td>0</td>\n",
       "      <td>0</td>\n",
       "      <td>0</td>\n",
       "      <td>1</td>\n",
       "      <td>1</td>\n",
       "      <td>0</td>\n",
       "      <td>1</td>\n",
       "      <td>0</td>\n",
       "      <td>1</td>\n",
       "      <td>1</td>\n",
       "      <td>1</td>\n",
       "    </tr>\n",
       "  </tbody>\n",
       "</table>\n",
       "</div>"
      ],
      "text/plain": [
       "   A  B  A AND B  A OR B  NOT A  NOT B  NOT A AND B  NOT A OR B  A AND NOT B  \\\n",
       "0  1  1        1       1      0      0            0           1            0   \n",
       "1  1  0        0       1      0      1            0           0            1   \n",
       "2  0  1        0       1      1      0            1           1            0   \n",
       "3  0  0        0       0      1      1            0           1            0   \n",
       "\n",
       "   A OR NOT B  NOT A AND NOT B  NOT A OR NOT B  \n",
       "0           1                0               0  \n",
       "1           1                0               1  \n",
       "2           0                0               1  \n",
       "3           1                1               1  "
      ]
     },
     "execution_count": 1,
     "metadata": {},
     "output_type": "execute_result"
    }
   ],
   "source": [
    "#### Answer\n",
    "\n",
    "import pandas as pd\n",
    "\n",
    "TruthTable = pd.DataFrame({'A':[1,1,0,0], 'B':[1,0,1,0], 'A AND B':[1,0,0,0], 'A OR B':[1,1,1,0], \n",
    "                           'NOT A':[0,0,1,1], 'NOT B':[0,1,0,1], 'NOT A AND B':[0,0,1,0], 'NOT A OR B':[1,0,1,1], \n",
    "                          'A AND NOT B': [0,1,0,0], 'A OR NOT B': [1,1,0,1], \n",
    "                           'NOT A AND NOT B': [0,0,0,1], 'NOT A OR NOT B': [0,1,1,1]})\n",
    "\n",
    "TruthTable\n",
    "\n",
    "# ---------------------------------------------------"
   ]
  },
  {
   "cell_type": "markdown",
   "id": "6e5564ea",
   "metadata": {},
   "source": [
    "4. What are the values of the following expressions?\n",
    "\n",
    "(5 > 4) and (3 == 5)\n",
    "\n",
    "not (5 > 4)\n",
    "\n",
    "(5 > 4) or (3 == 5)\n",
    "\n",
    "not ((5 > 4) or (3 == 5))\n",
    "\n",
    "(True and True) and (True == False)\n",
    "\n",
    "(not False) or (not True)"
   ]
  },
  {
   "cell_type": "markdown",
   "id": "b88d43ca",
   "metadata": {},
   "source": [
    "#### Answer\n",
    "\n",
    "(5 > 4) and (3==5) => True and False => False\n",
    "\n",
    "not (5 > 4) => not True => False\n",
    "\n",
    "not ((5 > 4) or (3 == 5)) => not (True or False) => not True => False\n",
    "\n",
    "(True and True) and (True == False) => (True) and (False)=> False\n",
    "\n",
    "(not False) or (not True) => (True) or (False) => True\n",
    "\n",
    "---------------------------------------------------"
   ]
  },
  {
   "cell_type": "markdown",
   "id": "e917c6d8",
   "metadata": {},
   "source": [
    "5. What are the six comparison operators?"
   ]
  },
  {
   "cell_type": "markdown",
   "id": "5f7e0956",
   "metadata": {},
   "source": [
    "#### Answer\n",
    "The six comparison operators are:\n",
    "\n",
    "    == Equal to\n",
    "    != Not equal to\n",
    "    < Lesser than\n",
    "    > Greater than\n",
    "    <= Lesser than or equal to\n",
    "    >= Greater than or equal to\n",
    "\n",
    "---------------------------------------------------"
   ]
  },
  {
   "cell_type": "markdown",
   "id": "3dc40b0f",
   "metadata": {},
   "source": [
    "6. How do you tell the difference between the equal to and assignment operators?Describe a condition and when you would use one."
   ]
  },
  {
   "cell_type": "markdown",
   "id": "ad99693b",
   "metadata": {},
   "source": [
    "#### Answer\n",
    "\n",
    "Assignment operator is =\n",
    "\n",
    "We can use it to assign a variable. Such as: counter = 0. This will not return any value. It will change the state of the system.\n",
    "\n",
    "Equal to comparison operator is ==\n",
    "\n",
    "We can use it to check if a variable reached an expected value. Such as: counter == 0. This will return True.\n",
    "\n",
    "---------------------------------------------------"
   ]
  },
  {
   "cell_type": "markdown",
   "id": "0a8331b5",
   "metadata": {},
   "source": [
    "7. Identify the three blocks in this code:\n",
    "spam = 0\n",
    "if spam == 10:\n",
    "print('eggs')\n",
    "if spam > 5:\n",
    "print('bacon')\n",
    "else:\n",
    "print('ham')\n",
    "print('spam')\n",
    "print('spam')"
   ]
  },
  {
   "cell_type": "code",
   "execution_count": 2,
   "id": "940bd8de",
   "metadata": {},
   "outputs": [
    {
     "name": "stdout",
     "output_type": "stream",
     "text": [
      "ham\n",
      "spam\n",
      "spam\n"
     ]
    }
   ],
   "source": [
    "#### Answer\n",
    "spam = 0 \n",
    "if spam == 10:\n",
    "    print('eggs')\n",
    "if spam > 5: \n",
    "    print('bacon') \n",
    "else: \n",
    "    print('ham')\n",
    "    print('spam')\n",
    "    print('spam')\n",
    "\n",
    "# This would be the correct indentation for the three blocks in the code.\n",
    "\n",
    "# The three blocks are print('eggs'), print('bacon') and print('ham') print('spam') print('spam')\n",
    "\n",
    "# ---------------------------------------------------"
   ]
  },
  {
   "cell_type": "markdown",
   "id": "cc21bcbc",
   "metadata": {},
   "source": [
    "8. Write code that prints Hello if 1 is stored in spam, prints Howdy if 2 is stored in spam, and prints Greetings! if anything else is stored in spam."
   ]
  },
  {
   "cell_type": "code",
   "execution_count": 3,
   "id": "f05e6991",
   "metadata": {},
   "outputs": [
    {
     "name": "stdout",
     "output_type": "stream",
     "text": [
      "Greetings!\n"
     ]
    }
   ],
   "source": [
    "#### Answer\n",
    "\n",
    "if spam==1:\n",
    "    print('Hello')\n",
    "elif spam==2:\n",
    "    print('Howdy')\n",
    "else:\n",
    "    print('Greetings!')\n",
    "\n",
    "# ---------------------------------------------------"
   ]
  },
  {
   "cell_type": "markdown",
   "id": "bd8e12f3",
   "metadata": {},
   "source": [
    "9. If your programme is stuck in an endless loop, what keys you’ll press?"
   ]
  },
  {
   "cell_type": "markdown",
   "id": "65139943",
   "metadata": {},
   "source": [
    "#### Answer\n",
    "Ctrl+C on the terminal that is running the process. Or kill the terminal using the GUI.\n",
    "\n",
    "---------------------------------------------------"
   ]
  },
  {
   "cell_type": "markdown",
   "id": "7a534ccb",
   "metadata": {},
   "source": [
    "10. How can you tell the difference between break and continue?"
   ]
  },
  {
   "cell_type": "markdown",
   "id": "3e5ac30c",
   "metadata": {},
   "source": [
    "#### Answer\n",
    "\n",
    "When we use break, we come out of the loop.\n",
    "\n",
    "When we use continue, we skip to the next iteration.\n",
    "\n",
    "---------------------------------------------------"
   ]
  },
  {
   "cell_type": "markdown",
   "id": "c4deab11",
   "metadata": {},
   "source": [
    "11. In a for loop, what is the difference between range(10), range(0, 10), and range(0, 10, 1)?"
   ]
  },
  {
   "cell_type": "markdown",
   "id": "57b47521",
   "metadata": {},
   "source": [
    "#### Answer\n",
    "\n",
    "There is no difference between all three.\n",
    "The default start value is 0, the default step value is 1. \n",
    "\n",
    "However, we have to mention all three if we are mentioning step value explicitly.\n",
    "\n",
    "---------------------------------------------------"
   ]
  },
  {
   "cell_type": "markdown",
   "id": "2dad9a79",
   "metadata": {},
   "source": [
    "12. Write a short program that prints the numbers 1 to 10 using a for loop. Then write an equivalent program that prints the numbers 1 to 10 using a while loop."
   ]
  },
  {
   "cell_type": "code",
   "execution_count": 4,
   "id": "1969087f",
   "metadata": {},
   "outputs": [
    {
     "name": "stdout",
     "output_type": "stream",
     "text": [
      "1\n",
      "2\n",
      "3\n",
      "4\n",
      "5\n",
      "6\n",
      "7\n",
      "8\n",
      "9\n",
      "10\n",
      "\n",
      "\n",
      "1\n",
      "2\n",
      "3\n",
      "4\n",
      "5\n",
      "6\n",
      "7\n",
      "8\n",
      "9\n",
      "10\n"
     ]
    }
   ],
   "source": [
    "#### Answer\n",
    "for i in range(1,11):\n",
    "    print(i)\n",
    "print(\"\\n\")\n",
    "i=1\n",
    "while(i<11):\n",
    "    print(i)\n",
    "    i += 1\n",
    "    \n",
    "# ---------------------------------------------------"
   ]
  },
  {
   "cell_type": "markdown",
   "id": "719ed1b7",
   "metadata": {},
   "source": [
    "13. If you had a function named bacon() inside a module named spam, how would you call it after importing spam?"
   ]
  },
  {
   "cell_type": "markdown",
   "id": "e8721614",
   "metadata": {},
   "source": [
    "#### Answer\n",
    "\n",
    "The function can be called with spam.bacon()\n",
    "\n",
    "---------------------------------------------------"
   ]
  }
 ],
 "metadata": {
  "kernelspec": {
   "display_name": "Python 3 (ipykernel)",
   "language": "python",
   "name": "python3"
  },
  "language_info": {
   "codemirror_mode": {
    "name": "ipython",
    "version": 3
   },
   "file_extension": ".py",
   "mimetype": "text/x-python",
   "name": "python",
   "nbconvert_exporter": "python",
   "pygments_lexer": "ipython3",
   "version": "3.9.7"
  }
 },
 "nbformat": 4,
 "nbformat_minor": 5
}
