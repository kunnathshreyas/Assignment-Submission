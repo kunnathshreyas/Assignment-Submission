{
 "cells": [
  {
   "cell_type": "markdown",
   "id": "9a84f530",
   "metadata": {},
   "source": [
    "1. What does an empty dictionary's code look like?"
   ]
  },
  {
   "cell_type": "markdown",
   "id": "b6fa4993",
   "metadata": {},
   "source": [
    "#### Answer\n",
    "new_dict = {} <br>\n",
    "new_dict = dict()\n",
    "\n",
    "These are the two methods to create an empty dictionary.\n",
    "***"
   ]
  },
  {
   "cell_type": "markdown",
   "id": "9e000b7d",
   "metadata": {},
   "source": [
    "2. What is the value of a dictionary value with the key 'foo' and the value 42?"
   ]
  },
  {
   "cell_type": "code",
   "execution_count": 1,
   "id": "3b874779",
   "metadata": {},
   "outputs": [
    {
     "name": "stdout",
     "output_type": "stream",
     "text": [
      "{'foo': 42}\n"
     ]
    }
   ],
   "source": [
    "#### Answer\n",
    "new_dict = {}\n",
    "new_dict['foo'] = 42\n",
    "print(new_dict)"
   ]
  },
  {
   "cell_type": "markdown",
   "id": "885ee16d",
   "metadata": {},
   "source": [
    "***"
   ]
  },
  {
   "cell_type": "markdown",
   "id": "0d51605d",
   "metadata": {},
   "source": [
    "3. What is the most significant distinction between a dictionary and a list?"
   ]
  },
  {
   "cell_type": "markdown",
   "id": "ed00f4a7",
   "metadata": {},
   "source": [
    "#### Answer\n",
    "List elements are associated with indices. List elements are ordered. <br>\n",
    "Dictionary values are associated with keys. Dictionary values aren't ordered.\n",
    "***"
   ]
  },
  {
   "cell_type": "markdown",
   "id": "5f942622",
   "metadata": {},
   "source": [
    "4. What happens if you try to access spam['foo'] if spam is {'bar': 100}?"
   ]
  },
  {
   "cell_type": "code",
   "execution_count": 3,
   "id": "d669eb22",
   "metadata": {},
   "outputs": [
    {
     "ename": "KeyError",
     "evalue": "'foo'",
     "output_type": "error",
     "traceback": [
      "\u001b[1;31m---------------------------------------------------------------------------\u001b[0m",
      "\u001b[1;31mKeyError\u001b[0m                                  Traceback (most recent call last)",
      "\u001b[1;32m~\\AppData\\Local\\Temp/ipykernel_13208/819140550.py\u001b[0m in \u001b[0;36m<module>\u001b[1;34m\u001b[0m\n\u001b[0;32m      1\u001b[0m \u001b[1;31m#### Answer\u001b[0m\u001b[1;33m\u001b[0m\u001b[1;33m\u001b[0m\u001b[0m\n\u001b[0;32m      2\u001b[0m \u001b[0mspam\u001b[0m \u001b[1;33m=\u001b[0m \u001b[1;33m{\u001b[0m\u001b[1;34m'bar'\u001b[0m\u001b[1;33m:\u001b[0m\u001b[1;36m100\u001b[0m\u001b[1;33m}\u001b[0m\u001b[1;33m\u001b[0m\u001b[1;33m\u001b[0m\u001b[0m\n\u001b[1;32m----> 3\u001b[1;33m \u001b[0mspam\u001b[0m\u001b[1;33m[\u001b[0m\u001b[1;34m'foo'\u001b[0m\u001b[1;33m]\u001b[0m\u001b[1;33m\u001b[0m\u001b[1;33m\u001b[0m\u001b[0m\n\u001b[0m\u001b[0;32m      4\u001b[0m \u001b[1;31m# 'foo' is not a defined key inside the spam dictionary, therefore this will throw an error\u001b[0m\u001b[1;33m\u001b[0m\u001b[1;33m\u001b[0m\u001b[0m\n",
      "\u001b[1;31mKeyError\u001b[0m: 'foo'"
     ]
    }
   ],
   "source": [
    "#### Answer\n",
    "spam = {'bar':100}\n",
    "spam['foo']\n",
    "# 'foo' is not a defined key inside the spam dictionary, therefore this will throw an error"
   ]
  },
  {
   "cell_type": "markdown",
   "id": "d9ac993d",
   "metadata": {},
   "source": [
    "***"
   ]
  },
  {
   "cell_type": "markdown",
   "id": "183ea1d0",
   "metadata": {},
   "source": [
    "5. If a dictionary is stored in spam, what is the difference between the expressions 'cat' in spam and 'cat' in spam.keys()?"
   ]
  },
  {
   "cell_type": "markdown",
   "id": "e4ff474f",
   "metadata": {},
   "source": [
    "#### Answer\n",
    "Result wise, there is no difference between 'cat' in spam and 'cat' in spam.keys(). Both will return the same result. <br>\n",
    "However, they will differ in terms of performance.\n",
    "\n",
    "There are three differences:<br>\n",
    "    1. spam.keys() has more overhead with calling an extra function.<br>\n",
    "    2. spam.keys() needs to store the keys from the dictionary into a list before doing a lookup.<br>\n",
    "    3. A key lookup in spam is an index lookup whereas, a key lookup in a list like spam.keys() is a linear lookup.<br>\n",
    "\n",
    "For the above reasons, 'cat' in spam is more efficient than 'cat' in spam.keys().<br>\n",
    "***"
   ]
  },
  {
   "cell_type": "markdown",
   "id": "4a80ad16",
   "metadata": {},
   "source": [
    "6. If a dictionary is stored in spam, what is the difference between the expressions 'cat' in spam and 'cat' in spam.values()?"
   ]
  },
  {
   "cell_type": "markdown",
   "id": "db839b74",
   "metadata": {},
   "source": [
    "#### Answer\n",
    "'cat' in spam checks for 'cat' as a key of the dictionary. <br>\n",
    "'cat' in spam.values() checks for 'cat' in the list of values of the dictionary. <br>\n",
    "***"
   ]
  },
  {
   "cell_type": "markdown",
   "id": "2492aab2",
   "metadata": {},
   "source": [
    "7. What is a shortcut for the following code?<br>\n",
    "if 'color' not in spam:<br>\n",
    "&emsp;spam['color'] = 'black'"
   ]
  },
  {
   "cell_type": "markdown",
   "id": "b573d297",
   "metadata": {},
   "source": [
    "#### Answer\n",
    "spam.setdefault('color','black')\n",
    "***"
   ]
  },
  {
   "cell_type": "markdown",
   "id": "bbb082f1",
   "metadata": {},
   "source": [
    "8. How do you \"pretty print\" dictionary values using which module and function?"
   ]
  },
  {
   "cell_type": "markdown",
   "id": "f51c593e",
   "metadata": {},
   "source": [
    "#### Answer\n",
    "\n",
    "***"
   ]
  }
 ],
 "metadata": {
  "kernelspec": {
   "display_name": "Python 3 (ipykernel)",
   "language": "python",
   "name": "python3"
  },
  "language_info": {
   "codemirror_mode": {
    "name": "ipython",
    "version": 3
   },
   "file_extension": ".py",
   "mimetype": "text/x-python",
   "name": "python",
   "nbconvert_exporter": "python",
   "pygments_lexer": "ipython3",
   "version": "3.9.7"
  }
 },
 "nbformat": 4,
 "nbformat_minor": 5
}
