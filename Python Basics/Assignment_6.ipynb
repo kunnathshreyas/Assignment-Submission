{
 "cells": [
  {
   "cell_type": "markdown",
   "id": "9a84f530",
   "metadata": {},
   "source": [
    "1. What are escape characters, and how do you use them?"
   ]
  },
  {
   "cell_type": "markdown",
   "id": "07c11ac5",
   "metadata": {},
   "source": [
    "#### Answer\n",
    "Escape characters are characters that would be interpreted by Python to mean something other than what the character would mean without the backslash in english.\n",
    "\n",
    "For example:\n",
    "\n",
    "print(\"n\") gives n <br>\n",
    "But print(\"\\n\") gives a new line.\n",
    "\n",
    "print('Hello, 'World'') will not be executed successfully since single quotes are already used in the definition of string.\n",
    "\n",
    "Using backslash, however, will change how the interpreter looks at the single quote in the context of that string and still print it.\n",
    "\n",
    "The following will give Hello, 'World'"
   ]
  },
  {
   "cell_type": "code",
   "execution_count": 1,
   "id": "d6cb57bb",
   "metadata": {
    "scrolled": true
   },
   "outputs": [
    {
     "name": "stdout",
     "output_type": "stream",
     "text": [
      "Hello, 'World'\n"
     ]
    }
   ],
   "source": [
    "print('Hello, \\'World\\'')"
   ]
  },
  {
   "cell_type": "markdown",
   "id": "4c673273",
   "metadata": {},
   "source": [
    "***"
   ]
  },
  {
   "cell_type": "markdown",
   "id": "9e000b7d",
   "metadata": {},
   "source": [
    "2. What do the escape characters n and t stand for?"
   ]
  },
  {
   "cell_type": "markdown",
   "id": "3dbb97f8",
   "metadata": {},
   "source": [
    "#### Answer\n",
    "'\\n' gives a new line and '\\t' gives a new tab space.\n",
    "***"
   ]
  },
  {
   "cell_type": "markdown",
   "id": "0d51605d",
   "metadata": {},
   "source": [
    "3. What is the way to include backslash characters in a string?"
   ]
  },
  {
   "cell_type": "code",
   "execution_count": 2,
   "id": "5b3c3095",
   "metadata": {},
   "outputs": [
    {
     "name": "stdout",
     "output_type": "stream",
     "text": [
      "Hello, 'World'\n"
     ]
    }
   ],
   "source": [
    "#### Answer\n",
    "print('Hello, \\'World\\'')"
   ]
  },
  {
   "cell_type": "markdown",
   "id": "e8d3af96",
   "metadata": {},
   "source": [
    "\n",
    "***"
   ]
  },
  {
   "cell_type": "markdown",
   "id": "5f942622",
   "metadata": {},
   "source": [
    "4. The string \"Howl's Moving Castle\" is a correct value. Why isn't the single quote character in the word Howl's not escaped a problem?"
   ]
  },
  {
   "cell_type": "markdown",
   "id": "c69845e7",
   "metadata": {},
   "source": [
    "#### Answer\n",
    "Because Python allows for the use of a single quote within a double quote defined string and vice-versa. <br>\n",
    "Escape characters are used in cases where we can't get away with the usage of the correct quote within the string. <br>\n",
    "The string given is a good example of this since Howl's cannot be re-written as Howl\"s. <br>\n",
    "Though changing the string definition to single quotes is an option, making minimum changes to the text while coding makes it more readable and may be desirable.\n",
    "***"
   ]
  },
  {
   "cell_type": "markdown",
   "id": "183ea1d0",
   "metadata": {},
   "source": [
    "5. How do you write a string of newlines if you don't want to use the n character?"
   ]
  },
  {
   "cell_type": "markdown",
   "id": "c9407fab",
   "metadata": {},
   "source": [
    "#### Answer\n",
    "We can use triple quotes to write paragraphs and Python will replicate the markdown along with newlines without having to specifically code it in. <br>\n",
    "\n",
    "''' Hello <br>\n",
    "World''' <br>\n",
    "\n",
    "This will show up with a line in between the two words.\n",
    "***"
   ]
  },
  {
   "cell_type": "markdown",
   "id": "4a80ad16",
   "metadata": {},
   "source": [
    "6. What are the values of the given expressions? <br>\n",
    "'Hello, world!'[1] <br>\n",
    "'Hello, world!'[0:5] <br>\n",
    "'Hello, world!'[:5] <br>\n",
    "'Hello, world!'[3:] <br>"
   ]
  },
  {
   "cell_type": "markdown",
   "id": "ff885505",
   "metadata": {},
   "source": [
    "#### Answer\n",
    "'Hello, world!'[1] -> 'e' <br>\n",
    "'Hello, world!'[0:5] -> 'Hello' <br>\n",
    "'Hello, world!'[:5] -> 'Hello' <br>\n",
    "'Hello, world!'[3:] -> 'lo world!'\n",
    "***"
   ]
  },
  {
   "cell_type": "markdown",
   "id": "2492aab2",
   "metadata": {},
   "source": [
    "7. What are the values of the following expressions? <br>\n",
    "'Hello'.upper() <br>\n",
    "'Hello'.upper().isupper() <br>\n",
    "'Hello'.upper().lower()"
   ]
  },
  {
   "cell_type": "markdown",
   "id": "a45281d7",
   "metadata": {},
   "source": [
    "#### Answer\n",
    "'Hello'.upper() -> 'HELLO' <br>\n",
    "'Hello'.upper().isupper() -> True <br>\n",
    "'Hello'.upper().lower() -> 'hello'\n",
    "***"
   ]
  },
  {
   "cell_type": "markdown",
   "id": "bbb082f1",
   "metadata": {},
   "source": [
    "8. What are the values of the following expressions? <br>\n",
    "'Remember, remember, the fifth of July.'.split() <br>\n",
    "'-'.join('There can only one.'.split()) <br>"
   ]
  },
  {
   "cell_type": "markdown",
   "id": "9a631499",
   "metadata": {},
   "source": [
    "#### Answer\n",
    "'Remember, remember, the fifth of July.'.split() -> ['Remember,', 'remember,', 'the', 'fifth', 'of', 'July.']<br>\n",
    "'-'.join('There can only one.'.split()) -> 'There-can-only-one.'<br>\n",
    "\n",
    "***"
   ]
  },
  {
   "cell_type": "markdown",
   "id": "522baf0f",
   "metadata": {},
   "source": [
    "9. What are the methods for right-justifying, left-justifying, and centering a string?"
   ]
  },
  {
   "cell_type": "code",
   "execution_count": 3,
   "id": "b3fafd0a",
   "metadata": {
    "scrolled": false
   },
   "outputs": [
    {
     "name": "stdout",
     "output_type": "stream",
     "text": [
      "text default\n",
      "      text right justify\n",
      "text       left justify\n",
      "   text    center\n"
     ]
    }
   ],
   "source": [
    "#### Answer\n",
    "# rjust(), ljust(), center() are used to right-justify, left-justify and center a string respectively.\n",
    "\n",
    "print('text', 'default')\n",
    "print('text'.rjust(10), 'right justify')\n",
    "print('text'.ljust(10), 'left justify')\n",
    "print('text'.center(10), 'center')"
   ]
  },
  {
   "cell_type": "markdown",
   "id": "9976f4a9",
   "metadata": {},
   "source": [
    "***"
   ]
  },
  {
   "cell_type": "markdown",
   "id": "3d485277",
   "metadata": {},
   "source": [
    "10. What is the best way to remove whitespace characters from the start or end?"
   ]
  },
  {
   "cell_type": "code",
   "execution_count": 4,
   "id": "48e8918b",
   "metadata": {},
   "outputs": [
    {
     "name": "stdout",
     "output_type": "stream",
     "text": [
      "      This is text with spaces         not stripped\n",
      "This is text with spaces stripped\n",
      "This is text with spaces         left stripped\n",
      "      This is text with spaces right stripped\n"
     ]
    }
   ],
   "source": [
    "#### Answer\n",
    "text = '      This is text with spaces        '\n",
    "print(text, 'not stripped')\n",
    "print(text.strip(), 'stripped')\n",
    "print(text.lstrip(), 'left stripped')\n",
    "print(text.rstrip(), 'right stripped')"
   ]
  },
  {
   "cell_type": "markdown",
   "id": "9f175f94",
   "metadata": {},
   "source": [
    "***"
   ]
  }
 ],
 "metadata": {
  "kernelspec": {
   "display_name": "Python 3 (ipykernel)",
   "language": "python",
   "name": "python3"
  },
  "language_info": {
   "codemirror_mode": {
    "name": "ipython",
    "version": 3
   },
   "file_extension": ".py",
   "mimetype": "text/x-python",
   "name": "python",
   "nbconvert_exporter": "python",
   "pygments_lexer": "ipython3",
   "version": "3.9.7"
  }
 },
 "nbformat": 4,
 "nbformat_minor": 5
}
