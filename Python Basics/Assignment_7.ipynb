{
 "cells": [
  {
   "cell_type": "markdown",
   "id": "9a84f530",
   "metadata": {},
   "source": [
    "1. What is the name of the feature responsible for generating Regex objects?"
   ]
  },
  {
   "cell_type": "code",
   "execution_count": null,
   "id": "575b3f38",
   "metadata": {},
   "outputs": [],
   "source": [
    "#### Answer\n",
    "\n",
    "***"
   ]
  },
  {
   "cell_type": "markdown",
   "id": "9e000b7d",
   "metadata": {},
   "source": [
    "2. Why do raw strings often appear in Regex objects?"
   ]
  },
  {
   "cell_type": "code",
   "execution_count": null,
   "id": "3b874779",
   "metadata": {},
   "outputs": [],
   "source": [
    "#### Answer\n",
    "\n",
    "***"
   ]
  },
  {
   "cell_type": "markdown",
   "id": "0d51605d",
   "metadata": {},
   "source": [
    "3. What is the return value of the search() method?"
   ]
  },
  {
   "cell_type": "code",
   "execution_count": null,
   "id": "5b3c3095",
   "metadata": {},
   "outputs": [],
   "source": [
    "#### Answer\n",
    "\n",
    "***"
   ]
  },
  {
   "cell_type": "markdown",
   "id": "5f942622",
   "metadata": {},
   "source": [
    "4. From a Match item, how do you get the actual strings that match the pattern?"
   ]
  },
  {
   "cell_type": "code",
   "execution_count": null,
   "id": "550cc1e1",
   "metadata": {},
   "outputs": [],
   "source": [
    "#### Answer\n",
    "\n",
    "***"
   ]
  },
  {
   "cell_type": "markdown",
   "id": "183ea1d0",
   "metadata": {},
   "source": [
    "5. In the regex which created from the r'(\\d\\d\\d)-(\\d\\d\\d-\\d\\d\\d\\d)', what does group zero cover? Group 2? Group 1?"
   ]
  },
  {
   "cell_type": "code",
   "execution_count": null,
   "id": "a52fd573",
   "metadata": {},
   "outputs": [],
   "source": [
    "#### Answer\n",
    "\n",
    "***"
   ]
  },
  {
   "cell_type": "markdown",
   "id": "4a80ad16",
   "metadata": {},
   "source": [
    "6. In standard expression syntax, parentheses and intervals have distinct meanings. How can you tell a regex that you want it to fit real parentheses and periods?"
   ]
  },
  {
   "cell_type": "code",
   "execution_count": null,
   "id": "b188771a",
   "metadata": {},
   "outputs": [],
   "source": [
    "#### Answer\n",
    "\n",
    "***"
   ]
  },
  {
   "cell_type": "markdown",
   "id": "2492aab2",
   "metadata": {},
   "source": [
    "7. The findall() method returns a string list or a list of string tuples. What causes it to return one of the two options?"
   ]
  },
  {
   "cell_type": "code",
   "execution_count": null,
   "id": "ccb225d1",
   "metadata": {},
   "outputs": [],
   "source": [
    "#### Answer\n",
    "\n",
    "***"
   ]
  },
  {
   "cell_type": "markdown",
   "id": "bbb082f1",
   "metadata": {},
   "source": [
    "8. In standard expressions, what does the | character mean?"
   ]
  },
  {
   "cell_type": "code",
   "execution_count": null,
   "id": "b7bc9bda",
   "metadata": {},
   "outputs": [],
   "source": [
    "#### Answer\n",
    "\n",
    "***"
   ]
  },
  {
   "cell_type": "markdown",
   "id": "522baf0f",
   "metadata": {},
   "source": [
    "9. In regular expressions, what does the character stand for?"
   ]
  },
  {
   "cell_type": "code",
   "execution_count": null,
   "id": "b3fafd0a",
   "metadata": {},
   "outputs": [],
   "source": [
    "#### Answer\n",
    "\n",
    "***"
   ]
  },
  {
   "cell_type": "markdown",
   "id": "3d485277",
   "metadata": {},
   "source": [
    "10. In regular expressions, what is the difference between the + and * characters?"
   ]
  },
  {
   "cell_type": "code",
   "execution_count": null,
   "id": "48e8918b",
   "metadata": {},
   "outputs": [],
   "source": [
    "#### Answer\n",
    "\n",
    "***"
   ]
  },
  {
   "cell_type": "markdown",
   "id": "9f175f94",
   "metadata": {},
   "source": [
    "11. What is the difference between {4} and {4,5} in regular expression?"
   ]
  },
  {
   "cell_type": "code",
   "execution_count": null,
   "id": "8f39c0b2",
   "metadata": {},
   "outputs": [],
   "source": [
    "#### Answer\n",
    "\n",
    "***"
   ]
  },
  {
   "cell_type": "markdown",
   "id": "4e3e1c38",
   "metadata": {},
   "source": [
    "12. What do you mean by the \\d, \\w, and \\s shorthand character classes signify in regular expressions?"
   ]
  },
  {
   "cell_type": "code",
   "execution_count": null,
   "id": "0bc1c7b8",
   "metadata": {},
   "outputs": [],
   "source": [
    "#### Answer\n",
    "\n",
    "***"
   ]
  },
  {
   "cell_type": "markdown",
   "id": "ef973c2d",
   "metadata": {},
   "source": [
    "13. What do means by \\D, \\W, and \\S shorthand character classes signify in regular expressions?"
   ]
  },
  {
   "cell_type": "code",
   "execution_count": null,
   "id": "59d70484",
   "metadata": {},
   "outputs": [],
   "source": [
    "#### Answer\n",
    "\n",
    "***"
   ]
  },
  {
   "cell_type": "markdown",
   "id": "0397db00",
   "metadata": {},
   "source": [
    "14. What is the difference between .*? and .*?"
   ]
  },
  {
   "cell_type": "code",
   "execution_count": null,
   "id": "b3895523",
   "metadata": {},
   "outputs": [],
   "source": [
    "#### Answer\n",
    "\n",
    "***"
   ]
  },
  {
   "cell_type": "markdown",
   "id": "9fc3c020",
   "metadata": {},
   "source": [
    "15. What is the syntax for matching both numbers and lowercase letters with a character class?"
   ]
  },
  {
   "cell_type": "code",
   "execution_count": null,
   "id": "3a9a1a9e",
   "metadata": {},
   "outputs": [],
   "source": [
    "#### Answer\n",
    "\n",
    "***"
   ]
  },
  {
   "cell_type": "markdown",
   "id": "6a4f5e3a",
   "metadata": {},
   "source": [
    "16. What is the procedure for making a normal expression in regax case insensitive?"
   ]
  },
  {
   "cell_type": "code",
   "execution_count": null,
   "id": "524b4d16",
   "metadata": {},
   "outputs": [],
   "source": [
    "#### Answer\n",
    "\n",
    "***"
   ]
  },
  {
   "cell_type": "markdown",
   "id": "5a4bc04a",
   "metadata": {},
   "source": [
    "17. What does the . character normally match? What does it match if re.DOTALL is passed as 2nd argument in re.compile()?"
   ]
  },
  {
   "cell_type": "code",
   "execution_count": null,
   "id": "9d627264",
   "metadata": {},
   "outputs": [],
   "source": [
    "#### Answer\n",
    "\n",
    "***"
   ]
  },
  {
   "cell_type": "markdown",
   "id": "b44e31c9",
   "metadata": {},
   "source": [
    "18. If numReg = re.compile(r'\\d+'), what will numRegex.sub('X', '11 drummers, 10 pipers, five rings, 4 hen') return?"
   ]
  },
  {
   "cell_type": "code",
   "execution_count": null,
   "id": "e5980e36",
   "metadata": {},
   "outputs": [],
   "source": [
    "#### Answer\n",
    "\n",
    "***"
   ]
  },
  {
   "cell_type": "markdown",
   "id": "a2763200",
   "metadata": {},
   "source": [
    "19. What does passing re.VERBOSE as the 2nd argument to re.compile() allow to do?"
   ]
  },
  {
   "cell_type": "code",
   "execution_count": null,
   "id": "c83633a0",
   "metadata": {},
   "outputs": [],
   "source": [
    "#### Answer\n",
    "\n",
    "***"
   ]
  },
  {
   "cell_type": "markdown",
   "id": "eaf4f0fd",
   "metadata": {},
   "source": [
    "20. How would you write a regex that match a number with comma for every three digits? It must match the given following: <br>\n",
    "'42' <br>\n",
    "'1,234' <br>\n",
    "'6,368,745' <br>\n",
    "but not the following: <br>\n",
    "'12,34,567' (which has only two digits between the commas) <br>\n",
    "'1234' (which lacks commas)"
   ]
  },
  {
   "cell_type": "code",
   "execution_count": null,
   "id": "4248b3eb",
   "metadata": {},
   "outputs": [],
   "source": [
    "#### Answer\n",
    "\n",
    "***"
   ]
  },
  {
   "cell_type": "markdown",
   "id": "10a46179",
   "metadata": {},
   "source": [
    "21. How would you write a regex that matches the full name of someone whose last name is Watanabe? You can assume that the first name that comes before it will always be one word that begins with a capital letter. The regex must match the following: <br>\n",
    "'Haruto Watanabe' <br>\n",
    "'Alice Watanabe' <br>\n",
    "'RoboCop Watanabe' <br>\n",
    "but not the following: <br>\n",
    "'haruto Watanabe' (where the first name is not capitalized) <br>\n",
    "'Mr. Watanabe' (where the preceding word has a nonletter character) <br>\n",
    "'Watanabe' (which has no first name) <br>\n",
    "'Haruto watanabe' (where Watanabe is not capitalized)"
   ]
  },
  {
   "cell_type": "code",
   "execution_count": null,
   "id": "bc0aca89",
   "metadata": {},
   "outputs": [],
   "source": [
    "#### Answer\n",
    "\n",
    "***"
   ]
  },
  {
   "cell_type": "markdown",
   "id": "61377f1c",
   "metadata": {},
   "source": [
    "22. How would you write a regex that matches a sentence where the first word is either Alice, Bob, or Carol; the second word is either eats, pets, or throws; the third word is apples, cats, or baseballs; and the sentence ends with a period? This regex should be case-insensitive. It must match the following: <br>\n",
    "'Alice eats apples.' <br>\n",
    "'Bob pets cats.' <br>\n",
    "'Carol throws baseballs.' <br>\n",
    "'Alice throws Apples.' <br>\n",
    "'BOB EATS CATS.' <br>\n",
    "but not the following: <br>\n",
    "'RoboCop eats apples.' <br>\n",
    "'ALICE THROWS FOOTBALLS.' <br>\n",
    "'Carol eats 7 cats.'"
   ]
  },
  {
   "cell_type": "code",
   "execution_count": null,
   "id": "a1bd0974",
   "metadata": {},
   "outputs": [],
   "source": [
    "#### Answer\n",
    "\n",
    "***"
   ]
  },
  {
   "cell_type": "markdown",
   "id": "52796300",
   "metadata": {},
   "source": []
  }
 ],
 "metadata": {
  "kernelspec": {
   "display_name": "Python 3 (ipykernel)",
   "language": "python",
   "name": "python3"
  },
  "language_info": {
   "codemirror_mode": {
    "name": "ipython",
    "version": 3
   },
   "file_extension": ".py",
   "mimetype": "text/x-python",
   "name": "python",
   "nbconvert_exporter": "python",
   "pygments_lexer": "ipython3",
   "version": "3.9.7"
  }
 },
 "nbformat": 4,
 "nbformat_minor": 5
}
