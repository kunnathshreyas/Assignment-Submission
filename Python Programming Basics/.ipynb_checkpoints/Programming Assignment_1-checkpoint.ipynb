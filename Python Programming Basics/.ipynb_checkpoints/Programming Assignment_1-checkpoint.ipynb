{
 "cells": [
  {
   "cell_type": "markdown",
   "id": "01e73b59-03f5-44c4-9e98-6353c708b9ff",
   "metadata": {},
   "source": [
    "1.\tWrite a Python program to print \"Hello Python\"?"
   ]
  },
  {
   "cell_type": "code",
   "execution_count": 1,
   "id": "089fb262-d140-4d1a-bbd6-66350137da52",
   "metadata": {},
   "outputs": [
    {
     "name": "stdout",
     "output_type": "stream",
     "text": [
      "Hello Python\n"
     ]
    }
   ],
   "source": [
    "#### Answer\n",
    "print(\"Hello Python\")\n",
    "\n",
    "# ---------------------------------------------------"
   ]
  },
  {
   "cell_type": "markdown",
   "id": "1abf389e-c5a4-403c-b5fa-c257bdb2a57f",
   "metadata": {},
   "source": [
    "2.\tWrite a Python program to do arithmetical operations addition and division.?"
   ]
  },
  {
   "cell_type": "code",
   "execution_count": 2,
   "id": "dd524fc5-fe8d-460c-826c-85fc364d307d",
   "metadata": {},
   "outputs": [
    {
     "name": "stdin",
     "output_type": "stream",
     "text": [
      "Enter the value of a:  1\n",
      "Enter the value of a:  2\n"
     ]
    },
    {
     "name": "stdout",
     "output_type": "stream",
     "text": [
      "a + b is  3\n",
      "a - b is  -1\n"
     ]
    }
   ],
   "source": [
    "#### Answer\n",
    "a = int(input(\"Enter the value of a: \"))\n",
    "b = int(input(\"Enter the value of a: \"))\n",
    "\n",
    "print(\"a + b is \", a+b)\n",
    "print(\"a - b is \", a-b)\n",
    "\n",
    "# ---------------------------------------------------"
   ]
  },
  {
   "cell_type": "markdown",
   "id": "f6d47b74-2d1b-4c57-bed7-eb1fa1a66144",
   "metadata": {},
   "source": [
    "3.\tWrite a Python program to find the area of a triangle?"
   ]
  },
  {
   "cell_type": "code",
   "execution_count": 3,
   "id": "edd1b9c6-7f97-4450-8ab9-67ba86566efd",
   "metadata": {},
   "outputs": [
    {
     "name": "stdin",
     "output_type": "stream",
     "text": [
      "Enter side 1 of the triange 1\n",
      "Enter side 2 of the triange 1\n",
      "Enter side 3 of the triange 1\n"
     ]
    },
    {
     "name": "stdout",
     "output_type": "stream",
     "text": [
      "The area of a triangle of the given sides is 0.4330127018922193\n"
     ]
    }
   ],
   "source": [
    "#### Answer\n",
    "import math\n",
    "a,b,c = [int(input(\"Enter side {} of the triange\".format(i+1))) for i in range(3)]\n",
    "\n",
    "# Using Heron's formula, we get the area\n",
    "s = (a+b+c)/2\n",
    "area = math.sqrt(s*(s-a)*(s-b)*(s-c))\n",
    "\n",
    "print(\"The area of a triangle of the given sides is\", area)\n",
    "# ---------------------------------------------------"
   ]
  },
  {
   "cell_type": "markdown",
   "id": "8342c32d-9d3b-45d8-ad62-257ba13cf69f",
   "metadata": {},
   "source": [
    "4.\tWrite a Python program to swap two variables?"
   ]
  },
  {
   "cell_type": "code",
   "execution_count": 4,
   "id": "bbe803d7-3a17-412e-9b6d-15a4b9579855",
   "metadata": {},
   "outputs": [
    {
     "name": "stdin",
     "output_type": "stream",
     "text": [
      "Enter value 1 34\n",
      "Enter value 2 43\n"
     ]
    },
    {
     "name": "stdout",
     "output_type": "stream",
     "text": [
      "Initial variables are a = 34, b = 43\n",
      "Variables after swap are a = 43, b = 34\n"
     ]
    }
   ],
   "source": [
    "#### Answer\n",
    "a,b = [int(input(\"Enter value {}\".format(i+1))) for i in range(2)]\n",
    "\n",
    "print(\"Initial variables are a = {}, b = {}\".format(a,b))\n",
    "a,b = b,a\n",
    "print(\"Variables after swap are a = {}, b = {}\".format(a,b))\n",
    "\n",
    "# ---------------------------------------------------"
   ]
  },
  {
   "cell_type": "markdown",
   "id": "71605902-725b-4908-8288-234491da8ff3",
   "metadata": {},
   "source": [
    "5.\tWrite a Python program to generate a random number?"
   ]
  },
  {
   "cell_type": "code",
   "execution_count": 5,
   "id": "e6b65e92-a4b8-4cb4-9373-009890bf1d7e",
   "metadata": {},
   "outputs": [
    {
     "name": "stdin",
     "output_type": "stream",
     "text": [
      "Enter bounding value 1 30\n",
      "Enter bounding value 2 80\n"
     ]
    },
    {
     "name": "stdout",
     "output_type": "stream",
     "text": [
      "A random number between 30 and 80 is 43\n"
     ]
    }
   ],
   "source": [
    "#### Answer\n",
    "import random\n",
    "a,b = [int(input(\"Enter bounding value {}\".format(i+1))) for i in range(2)]\n",
    "if a>b:\n",
    "    a,b = b,a\n",
    "print(\"A random number between {} and {} is {}\".format(a, b, random.randint(a, b)))\n",
    "# ---------------------------------------------------"
   ]
  }
 ],
 "metadata": {
  "kernelspec": {
   "display_name": "Python 3 (ipykernel)",
   "language": "python",
   "name": "python3"
  },
  "language_info": {
   "codemirror_mode": {
    "name": "ipython",
    "version": 3
   },
   "file_extension": ".py",
   "mimetype": "text/x-python",
   "name": "python",
   "nbconvert_exporter": "python",
   "pygments_lexer": "ipython3",
   "version": "3.9.7"
  }
 },
 "nbformat": 4,
 "nbformat_minor": 5
}
